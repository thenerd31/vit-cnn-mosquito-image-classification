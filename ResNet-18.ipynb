{
 "cells": [
  {
   "cell_type": "code",
   "execution_count": 1,
   "id": "cb475782",
   "metadata": {},
   "outputs": [
    {
     "name": "stderr",
     "output_type": "stream",
     "text": [
      "Using custom data configuration TheNoob3131--mosquito-data-bf1f4d4d5f427763\n",
      "Reusing dataset csv (C:\\Users\\Aswin.Surya24\\.cache\\huggingface\\datasets\\TheNoob3131___csv\\TheNoob3131--mosquito-data-bf1f4d4d5f427763\\0.0.0\\51cce309a08df9c4d82ffd9363bbe090bf173197fc01a71b034e8594995a1a58)\n"
     ]
    },
    {
     "data": {
      "application/vnd.jupyter.widget-view+json": {
       "model_id": "a3ca8a90c76c4997b479b78b4d695830",
       "version_major": 2,
       "version_minor": 0
      },
      "text/plain": [
       "  0%|          | 0/2 [00:00<?, ?it/s]"
      ]
     },
     "metadata": {},
     "output_type": "display_data"
    }
   ],
   "source": [
    "from datasets import load_dataset\n",
    "\n",
    "dataset = load_dataset('TheNoob3131/mosquito-data')"
   ]
  },
  {
   "cell_type": "code",
   "execution_count": 2,
   "id": "6a40673e",
   "metadata": {},
   "outputs": [],
   "source": [
    "dataset['train'].features['Photo']\n",
    "from datasets import Image\n",
    "dataset = dataset.cast_column('Photo', Image(decode=True))"
   ]
  },
  {
   "cell_type": "code",
   "execution_count": 3,
   "id": "e26091cb",
   "metadata": {},
   "outputs": [
    {
     "name": "stderr",
     "output_type": "stream",
     "text": [
      "Parameter 'function'=<function Dataset.class_encode_column.<locals>.cast_to_class_labels at 0x0000015038427550> of the transform datasets.arrow_dataset.Dataset._map_single couldn't be hashed properly, a random hash was used instead. Make sure your transforms and parameters are serializable with pickle or dill for the dataset fingerprinting and caching to work. If you reuse this transform, the caching mechanism will consider it to be different from the previous calls and recompute everything. This warning is only showed once. Subsequent hashing failures won't be showed.\n"
     ]
    },
    {
     "data": {
      "application/vnd.jupyter.widget-view+json": {
       "model_id": "e02276a572bb45a68c43bfae51805242",
       "version_major": 2,
       "version_minor": 0
      },
      "text/plain": [
       "Casting to class labels:   0%|          | 0/8 [00:00<?, ?ba/s]"
      ]
     },
     "metadata": {},
     "output_type": "display_data"
    },
    {
     "data": {
      "application/vnd.jupyter.widget-view+json": {
       "model_id": "0376211985bf4e6aae38bfef72e6e536",
       "version_major": 2,
       "version_minor": 0
      },
      "text/plain": [
       "Casting the dataset:   0%|          | 0/1 [00:00<?, ?ba/s]"
      ]
     },
     "metadata": {},
     "output_type": "display_data"
    },
    {
     "data": {
      "application/vnd.jupyter.widget-view+json": {
       "model_id": "e0168a1500f247a7812fc7117265d5ec",
       "version_major": 2,
       "version_minor": 0
      },
      "text/plain": [
       "Casting to class labels:   0%|          | 0/4 [00:00<?, ?ba/s]"
      ]
     },
     "metadata": {},
     "output_type": "display_data"
    },
    {
     "data": {
      "application/vnd.jupyter.widget-view+json": {
       "model_id": "2b645d91c2274a3987fa343ef9bc2b38",
       "version_major": 2,
       "version_minor": 0
      },
      "text/plain": [
       "Casting the dataset:   0%|          | 0/1 [00:00<?, ?ba/s]"
      ]
     },
     "metadata": {},
     "output_type": "display_data"
    }
   ],
   "source": [
    "dataset = dataset.class_encode_column('Classification')\n",
    "dataset = dataset.rename_column('Classification', 'labels')"
   ]
  },
  {
   "cell_type": "code",
   "execution_count": 4,
   "id": "3790e3b5",
   "metadata": {},
   "outputs": [
    {
     "name": "stdout",
     "output_type": "stream",
     "text": [
      "['aedes', 'culex', 'neither']\n"
     ]
    }
   ],
   "source": [
    "labels = dataset[\"train\"].features[\"labels\"].names\n",
    "print(labels)"
   ]
  },
  {
   "cell_type": "code",
   "execution_count": 5,
   "id": "fa30bbeb",
   "metadata": {},
   "outputs": [
    {
     "name": "stdout",
     "output_type": "stream",
     "text": [
      "{0: 'aedes', 1: 'culex', 2: 'neither'}\n"
     ]
    }
   ],
   "source": [
    "id2label = {k:v for k,v in enumerate(labels)}\n",
    "label2id = {v:k for k,v in enumerate(labels)}\n",
    "print(id2label)\n"
   ]
  },
  {
   "cell_type": "code",
   "execution_count": 6,
   "id": "31078a0f",
   "metadata": {},
   "outputs": [
    {
     "data": {
      "application/vnd.jupyter.widget-view+json": {
       "model_id": "38006c74970547268ead8bca1b95def6",
       "version_major": 2,
       "version_minor": 0
      },
      "text/plain": [
       "Downloading:   0%|          | 0.00/266 [00:00<?, ?B/s]"
      ]
     },
     "metadata": {},
     "output_type": "display_data"
    },
    {
     "name": "stdout",
     "output_type": "stream",
     "text": [
      "ConvNextFeatureExtractor {\n",
      "  \"crop_pct\": 0.875,\n",
      "  \"do_normalize\": true,\n",
      "  \"do_resize\": true,\n",
      "  \"feature_extractor_type\": \"ConvNextFeatureExtractor\",\n",
      "  \"image_mean\": [\n",
      "    0.485,\n",
      "    0.456,\n",
      "    0.406\n",
      "  ],\n",
      "  \"image_std\": [\n",
      "    0.229,\n",
      "    0.224,\n",
      "    0.225\n",
      "  ],\n",
      "  \"resample\": 3,\n",
      "  \"size\": 224\n",
      "}\n",
      "\n"
     ]
    }
   ],
   "source": [
    "from transformers import AutoFeatureExtractor, ResNetForImageClassification\n",
    "model_name_or_path = 'microsoft/resnet-18'\n",
    "feature_extractor = AutoFeatureExtractor.from_pretrained(model_name_or_path)\n",
    "print(feature_extractor)"
   ]
  },
  {
   "cell_type": "code",
   "execution_count": 7,
   "id": "f66551a0",
   "metadata": {},
   "outputs": [],
   "source": [
    "from torchvision.transforms import (\n",
    "    Compose,\n",
    "    Normalize,\n",
    "    RandomHorizontalFlip,\n",
    "    RandomResizedCrop,\n",
    "    ToTensor,\n",
    ")\n",
    "\n",
    "normalize = Normalize(mean=feature_extractor.image_mean, std=feature_extractor.image_std)\n",
    "\n",
    "transform = Compose(\n",
    "    [\n",
    "     RandomResizedCrop(feature_extractor.size),\n",
    "     RandomHorizontalFlip(),\n",
    "     ToTensor(),\n",
    "     normalize\n",
    "    ]\n",
    ")\n",
    "\n",
    "def train_transforms(examples):\n",
    "  examples[\"pixel_values\"] = [transform(image.convert(\"RGB\")) for image in examples[\"Photo\"]]\n",
    "\n",
    "  return examples\n"
   ]
  },
  {
   "cell_type": "code",
   "execution_count": 8,
   "id": "bfcd390c",
   "metadata": {},
   "outputs": [],
   "source": [
    "prepared_ds = dataset.with_transform(train_transforms)"
   ]
  },
  {
   "cell_type": "code",
   "execution_count": 9,
   "id": "a35c7f9e",
   "metadata": {},
   "outputs": [
    {
     "data": {
      "text/plain": [
       "torch.Size([3, 224, 224])"
      ]
     },
     "execution_count": 9,
     "metadata": {},
     "output_type": "execute_result"
    }
   ],
   "source": [
    "prepared_ds[\"train\"][0][\"pixel_values\"].shape"
   ]
  },
  {
   "cell_type": "code",
   "execution_count": 10,
   "id": "e3743490",
   "metadata": {},
   "outputs": [],
   "source": [
    "from torch.utils.data import DataLoader\n",
    "import torch\n",
    "\n",
    "def collate_fn(examples):\n",
    "  pixel_values = torch.stack([example[\"pixel_values\"] for example in examples])\n",
    "  labels = torch.tensor([example[\"labels\"] for example in examples])\n",
    "\n",
    "  return {\"pixel_values\": pixel_values, \"labels\": labels}\n",
    "\n",
    "dataloader = DataLoader(prepared_ds[\"train\"], collate_fn=collate_fn, batch_size=4, shuffle=True)"
   ]
  },
  {
   "cell_type": "code",
   "execution_count": 11,
   "id": "42512fa6",
   "metadata": {},
   "outputs": [
    {
     "name": "stdout",
     "output_type": "stream",
     "text": [
      "pixel_values torch.Size([4, 3, 224, 224])\n",
      "labels torch.Size([4])\n"
     ]
    }
   ],
   "source": [
    "batch = next(iter(dataloader))\n",
    "for k,v in batch.items():\n",
    "  print(k,v.shape)"
   ]
  },
  {
   "cell_type": "code",
   "execution_count": 12,
   "id": "357e5cbc",
   "metadata": {},
   "outputs": [
    {
     "data": {
      "text/plain": [
       "3"
      ]
     },
     "execution_count": 12,
     "metadata": {},
     "output_type": "execute_result"
    }
   ],
   "source": [
    "len(labels)"
   ]
  },
  {
   "cell_type": "code",
   "execution_count": 13,
   "id": "3bd12a35",
   "metadata": {},
   "outputs": [
    {
     "data": {
      "application/vnd.jupyter.widget-view+json": {
       "model_id": "8b26a16938e3451c948c62e648f50a06",
       "version_major": 2,
       "version_minor": 0
      },
      "text/plain": [
       "Downloading:   0%|          | 0.00/67.9k [00:00<?, ?B/s]"
      ]
     },
     "metadata": {},
     "output_type": "display_data"
    },
    {
     "data": {
      "application/vnd.jupyter.widget-view+json": {
       "model_id": "29539c417b164427856514a8662aa8b0",
       "version_major": 2,
       "version_minor": 0
      },
      "text/plain": [
       "Downloading:   0%|          | 0.00/44.7M [00:00<?, ?B/s]"
      ]
     },
     "metadata": {},
     "output_type": "display_data"
    },
    {
     "name": "stderr",
     "output_type": "stream",
     "text": [
      "Some weights of ResNetForImageClassification were not initialized from the model checkpoint at microsoft/resnet-18 and are newly initialized because the shapes did not match:\n",
      "- classifier.1.weight: found shape torch.Size([1000, 512]) in the checkpoint and torch.Size([3, 512]) in the model instantiated\n",
      "- classifier.1.bias: found shape torch.Size([1000]) in the checkpoint and torch.Size([3]) in the model instantiated\n",
      "You should probably TRAIN this model on a down-stream task to be able to use it for predictions and inference.\n"
     ]
    },
    {
     "data": {
      "text/plain": [
       "ResNetForImageClassification(\n",
       "  (resnet): ResNetModel(\n",
       "    (embedder): ResNetEmbeddings(\n",
       "      (embedder): ResNetConvLayer(\n",
       "        (convolution): Conv2d(3, 64, kernel_size=(7, 7), stride=(2, 2), padding=(3, 3), bias=False)\n",
       "        (normalization): BatchNorm2d(64, eps=1e-05, momentum=0.1, affine=True, track_running_stats=True)\n",
       "        (activation): ReLU()\n",
       "      )\n",
       "      (pooler): MaxPool2d(kernel_size=3, stride=2, padding=1, dilation=1, ceil_mode=False)\n",
       "    )\n",
       "    (encoder): ResNetEncoder(\n",
       "      (stages): ModuleList(\n",
       "        (0): ResNetStage(\n",
       "          (layers): Sequential(\n",
       "            (0): ResNetBasicLayer(\n",
       "              (shortcut): Identity()\n",
       "              (layer): Sequential(\n",
       "                (0): ResNetConvLayer(\n",
       "                  (convolution): Conv2d(64, 64, kernel_size=(3, 3), stride=(1, 1), padding=(1, 1), bias=False)\n",
       "                  (normalization): BatchNorm2d(64, eps=1e-05, momentum=0.1, affine=True, track_running_stats=True)\n",
       "                  (activation): ReLU()\n",
       "                )\n",
       "                (1): ResNetConvLayer(\n",
       "                  (convolution): Conv2d(64, 64, kernel_size=(3, 3), stride=(1, 1), padding=(1, 1), bias=False)\n",
       "                  (normalization): BatchNorm2d(64, eps=1e-05, momentum=0.1, affine=True, track_running_stats=True)\n",
       "                  (activation): Identity()\n",
       "                )\n",
       "              )\n",
       "              (activation): ReLU()\n",
       "            )\n",
       "            (1): ResNetBasicLayer(\n",
       "              (shortcut): Identity()\n",
       "              (layer): Sequential(\n",
       "                (0): ResNetConvLayer(\n",
       "                  (convolution): Conv2d(64, 64, kernel_size=(3, 3), stride=(1, 1), padding=(1, 1), bias=False)\n",
       "                  (normalization): BatchNorm2d(64, eps=1e-05, momentum=0.1, affine=True, track_running_stats=True)\n",
       "                  (activation): ReLU()\n",
       "                )\n",
       "                (1): ResNetConvLayer(\n",
       "                  (convolution): Conv2d(64, 64, kernel_size=(3, 3), stride=(1, 1), padding=(1, 1), bias=False)\n",
       "                  (normalization): BatchNorm2d(64, eps=1e-05, momentum=0.1, affine=True, track_running_stats=True)\n",
       "                  (activation): Identity()\n",
       "                )\n",
       "              )\n",
       "              (activation): ReLU()\n",
       "            )\n",
       "          )\n",
       "        )\n",
       "        (1): ResNetStage(\n",
       "          (layers): Sequential(\n",
       "            (0): ResNetBasicLayer(\n",
       "              (shortcut): ResNetShortCut(\n",
       "                (convolution): Conv2d(64, 128, kernel_size=(1, 1), stride=(2, 2), bias=False)\n",
       "                (normalization): BatchNorm2d(128, eps=1e-05, momentum=0.1, affine=True, track_running_stats=True)\n",
       "              )\n",
       "              (layer): Sequential(\n",
       "                (0): ResNetConvLayer(\n",
       "                  (convolution): Conv2d(64, 128, kernel_size=(3, 3), stride=(2, 2), padding=(1, 1), bias=False)\n",
       "                  (normalization): BatchNorm2d(128, eps=1e-05, momentum=0.1, affine=True, track_running_stats=True)\n",
       "                  (activation): ReLU()\n",
       "                )\n",
       "                (1): ResNetConvLayer(\n",
       "                  (convolution): Conv2d(128, 128, kernel_size=(3, 3), stride=(1, 1), padding=(1, 1), bias=False)\n",
       "                  (normalization): BatchNorm2d(128, eps=1e-05, momentum=0.1, affine=True, track_running_stats=True)\n",
       "                  (activation): Identity()\n",
       "                )\n",
       "              )\n",
       "              (activation): ReLU()\n",
       "            )\n",
       "            (1): ResNetBasicLayer(\n",
       "              (shortcut): Identity()\n",
       "              (layer): Sequential(\n",
       "                (0): ResNetConvLayer(\n",
       "                  (convolution): Conv2d(128, 128, kernel_size=(3, 3), stride=(1, 1), padding=(1, 1), bias=False)\n",
       "                  (normalization): BatchNorm2d(128, eps=1e-05, momentum=0.1, affine=True, track_running_stats=True)\n",
       "                  (activation): ReLU()\n",
       "                )\n",
       "                (1): ResNetConvLayer(\n",
       "                  (convolution): Conv2d(128, 128, kernel_size=(3, 3), stride=(1, 1), padding=(1, 1), bias=False)\n",
       "                  (normalization): BatchNorm2d(128, eps=1e-05, momentum=0.1, affine=True, track_running_stats=True)\n",
       "                  (activation): Identity()\n",
       "                )\n",
       "              )\n",
       "              (activation): ReLU()\n",
       "            )\n",
       "          )\n",
       "        )\n",
       "        (2): ResNetStage(\n",
       "          (layers): Sequential(\n",
       "            (0): ResNetBasicLayer(\n",
       "              (shortcut): ResNetShortCut(\n",
       "                (convolution): Conv2d(128, 256, kernel_size=(1, 1), stride=(2, 2), bias=False)\n",
       "                (normalization): BatchNorm2d(256, eps=1e-05, momentum=0.1, affine=True, track_running_stats=True)\n",
       "              )\n",
       "              (layer): Sequential(\n",
       "                (0): ResNetConvLayer(\n",
       "                  (convolution): Conv2d(128, 256, kernel_size=(3, 3), stride=(2, 2), padding=(1, 1), bias=False)\n",
       "                  (normalization): BatchNorm2d(256, eps=1e-05, momentum=0.1, affine=True, track_running_stats=True)\n",
       "                  (activation): ReLU()\n",
       "                )\n",
       "                (1): ResNetConvLayer(\n",
       "                  (convolution): Conv2d(256, 256, kernel_size=(3, 3), stride=(1, 1), padding=(1, 1), bias=False)\n",
       "                  (normalization): BatchNorm2d(256, eps=1e-05, momentum=0.1, affine=True, track_running_stats=True)\n",
       "                  (activation): Identity()\n",
       "                )\n",
       "              )\n",
       "              (activation): ReLU()\n",
       "            )\n",
       "            (1): ResNetBasicLayer(\n",
       "              (shortcut): Identity()\n",
       "              (layer): Sequential(\n",
       "                (0): ResNetConvLayer(\n",
       "                  (convolution): Conv2d(256, 256, kernel_size=(3, 3), stride=(1, 1), padding=(1, 1), bias=False)\n",
       "                  (normalization): BatchNorm2d(256, eps=1e-05, momentum=0.1, affine=True, track_running_stats=True)\n",
       "                  (activation): ReLU()\n",
       "                )\n",
       "                (1): ResNetConvLayer(\n",
       "                  (convolution): Conv2d(256, 256, kernel_size=(3, 3), stride=(1, 1), padding=(1, 1), bias=False)\n",
       "                  (normalization): BatchNorm2d(256, eps=1e-05, momentum=0.1, affine=True, track_running_stats=True)\n",
       "                  (activation): Identity()\n",
       "                )\n",
       "              )\n",
       "              (activation): ReLU()\n",
       "            )\n",
       "          )\n",
       "        )\n",
       "        (3): ResNetStage(\n",
       "          (layers): Sequential(\n",
       "            (0): ResNetBasicLayer(\n",
       "              (shortcut): ResNetShortCut(\n",
       "                (convolution): Conv2d(256, 512, kernel_size=(1, 1), stride=(2, 2), bias=False)\n",
       "                (normalization): BatchNorm2d(512, eps=1e-05, momentum=0.1, affine=True, track_running_stats=True)\n",
       "              )\n",
       "              (layer): Sequential(\n",
       "                (0): ResNetConvLayer(\n",
       "                  (convolution): Conv2d(256, 512, kernel_size=(3, 3), stride=(2, 2), padding=(1, 1), bias=False)\n",
       "                  (normalization): BatchNorm2d(512, eps=1e-05, momentum=0.1, affine=True, track_running_stats=True)\n",
       "                  (activation): ReLU()\n",
       "                )\n",
       "                (1): ResNetConvLayer(\n",
       "                  (convolution): Conv2d(512, 512, kernel_size=(3, 3), stride=(1, 1), padding=(1, 1), bias=False)\n",
       "                  (normalization): BatchNorm2d(512, eps=1e-05, momentum=0.1, affine=True, track_running_stats=True)\n",
       "                  (activation): Identity()\n",
       "                )\n",
       "              )\n",
       "              (activation): ReLU()\n",
       "            )\n",
       "            (1): ResNetBasicLayer(\n",
       "              (shortcut): Identity()\n",
       "              (layer): Sequential(\n",
       "                (0): ResNetConvLayer(\n",
       "                  (convolution): Conv2d(512, 512, kernel_size=(3, 3), stride=(1, 1), padding=(1, 1), bias=False)\n",
       "                  (normalization): BatchNorm2d(512, eps=1e-05, momentum=0.1, affine=True, track_running_stats=True)\n",
       "                  (activation): ReLU()\n",
       "                )\n",
       "                (1): ResNetConvLayer(\n",
       "                  (convolution): Conv2d(512, 512, kernel_size=(3, 3), stride=(1, 1), padding=(1, 1), bias=False)\n",
       "                  (normalization): BatchNorm2d(512, eps=1e-05, momentum=0.1, affine=True, track_running_stats=True)\n",
       "                  (activation): Identity()\n",
       "                )\n",
       "              )\n",
       "              (activation): ReLU()\n",
       "            )\n",
       "          )\n",
       "        )\n",
       "      )\n",
       "    )\n",
       "    (pooler): AdaptiveAvgPool2d(output_size=(1, 1))\n",
       "  )\n",
       "  (classifier): Sequential(\n",
       "    (0): Flatten(start_dim=1, end_dim=-1)\n",
       "    (1): Linear(in_features=512, out_features=3, bias=True)\n",
       "  )\n",
       ")"
      ]
     },
     "execution_count": 13,
     "metadata": {},
     "output_type": "execute_result"
    }
   ],
   "source": [
    "from transformers import ResNetForImageClassification\n",
    "#print(len(labels))\n",
    "model = ResNetForImageClassification.from_pretrained(\n",
    "    model_name_or_path,\n",
    "    num_labels=len(labels),\n",
    "    id2label=id2label,\n",
    "    label2id=label2id,\n",
    "    ignore_mismatched_sizes=True\n",
    ")\n",
    "\n",
    "model.train()"
   ]
  },
  {
   "cell_type": "code",
   "execution_count": 14,
   "id": "e240edf9",
   "metadata": {},
   "outputs": [
    {
     "data": {
      "text/plain": [
       "{'MHM Id': 17233.0,\n",
       " 'labels': 0,\n",
       " 'Container': 'plant clumps (bamboo etc)',\n",
       " 'Userid': 2538037,\n",
       " 'latitude': -22.8854,\n",
       " 'longitude': 47.7708,\n",
       " 'date': '9/19/2019',\n",
       " 'Photo': <PIL.JpegImagePlugin.JpegImageFile image mode=RGB size=4160x3120 at 0x1503D913C40>,\n",
       " 'pixel_values': tensor([[[-2.0323, -2.0323, -2.0665,  ..., -2.0323, -1.9980, -1.9295],\n",
       "          [-2.0494, -2.0494, -2.0152,  ..., -1.9980, -1.9809, -1.9467],\n",
       "          [-2.0494, -2.0665, -2.0494,  ..., -1.9980, -1.9638, -1.9467],\n",
       "          ...,\n",
       "          [ 1.2899,  1.2728,  1.3584,  ..., -1.9980, -2.0152, -1.9980],\n",
       "          [ 1.4098,  1.3755,  1.3755,  ..., -1.9809, -1.9980, -2.0152],\n",
       "          [ 1.4269,  1.4440,  1.4098,  ..., -1.9295, -1.9467, -1.9638]],\n",
       " \n",
       "         [[-1.9132, -1.9132, -1.9307,  ..., -2.0182, -2.0182, -2.0007],\n",
       "          [-1.9132, -1.9132, -1.8782,  ..., -1.9832, -2.0007, -2.0007],\n",
       "          [-1.8606, -1.8957, -1.8606,  ..., -1.9832, -1.9832, -2.0007],\n",
       "          ...,\n",
       "          [ 1.6057,  1.5882,  1.6057,  ..., -1.9832, -2.0007, -1.9832],\n",
       "          [ 1.6408,  1.6057,  1.6408,  ..., -2.0007, -2.0182, -2.0182],\n",
       "          [ 1.6758,  1.6933,  1.6583,  ..., -2.0007, -2.0182, -2.0182]],\n",
       " \n",
       "         [[-1.5604, -1.5604, -1.5779,  ..., -1.7696, -1.7522, -1.7173],\n",
       "          [-1.5779, -1.5604, -1.5256,  ..., -1.7522, -1.7522, -1.7347],\n",
       "          [-1.5256, -1.5604, -1.5604,  ..., -1.7870, -1.7870, -1.7870],\n",
       "          ...,\n",
       "          [ 2.2914,  2.2740,  2.2740,  ..., -1.7347, -1.7522, -1.7347],\n",
       "          [ 2.2914,  2.2566,  2.2217,  ..., -1.7347, -1.7522, -1.7696],\n",
       "          [ 2.2391,  2.2566,  2.2217,  ..., -1.7173, -1.7347, -1.7522]]])}"
      ]
     },
     "execution_count": 14,
     "metadata": {},
     "output_type": "execute_result"
    }
   ],
   "source": [
    "prepared_ds[\"train\"][0]"
   ]
  },
  {
   "cell_type": "code",
   "execution_count": 15,
   "id": "e6a2cf35",
   "metadata": {},
   "outputs": [],
   "source": [
    "from datasets import load_metric\n",
    "import numpy as np\n",
    "\n",
    "\n",
    "def compute_metrics(eval_pred):\n",
    "    metric1 = load_metric(\"precision\")\n",
    "    metric2 = load_metric(\"recall\")\n",
    "    metric3 = load_metric(\"f1\")\n",
    "    metric4 = load_metric(\"accuracy\")\n",
    "  \n",
    "\n",
    "    \n",
    "    logits, labels = eval_pred\n",
    "    predictions = np.argmax(logits, axis=-1)\n",
    "    precision = metric1.compute(predictions=predictions, references=labels, average=\"weighted\")[\"precision\"]\n",
    "    recall = metric2.compute(predictions=predictions, references=labels, average=\"weighted\")[\"recall\"]\n",
    "    f1 = metric3.compute(predictions=predictions, references=labels, average=\"weighted\")[\"f1\"]\n",
    "    accuracy = metric4.compute(predictions=predictions, references=labels)[\"accuracy\"]\n",
    "\n",
    "    return {\"precision\": precision, \"recall\": recall, \"f1\": f1, \"accuracy\": accuracy}"
   ]
  },
  {
   "cell_type": "code",
   "execution_count": 16,
   "id": "38a34cb1",
   "metadata": {},
   "outputs": [],
   "source": [
    "from transformers import TrainingArguments\n",
    "\n",
    "training_args = TrainingArguments(\n",
    "  output_dir=\"./resnet-18-mosquito\",\n",
    "  per_device_train_batch_size=16,\n",
    "  evaluation_strategy=\"steps\",\n",
    "  num_train_epochs=4,\n",
    "  save_steps=100,\n",
    "  eval_steps=100,\n",
    "  logging_steps=10,\n",
    "  learning_rate=2e-4,\n",
    "  save_total_limit=2,\n",
    "  remove_unused_columns=False,\n",
    "  push_to_hub=False,\n",
    "  report_to='tensorboard',\n",
    "  load_best_model_at_end=True,\n",
    ")"
   ]
  },
  {
   "cell_type": "code",
   "execution_count": 17,
   "id": "f9310090",
   "metadata": {},
   "outputs": [
    {
     "data": {
      "text/plain": [
       "{'MHM Id': Value(dtype='float64', id=None),\n",
       " 'labels': ClassLabel(num_classes=3, names=['aedes', 'culex', 'neither'], id=None),\n",
       " 'Container': Value(dtype='string', id=None),\n",
       " 'Userid': Value(dtype='int64', id=None),\n",
       " 'latitude': Value(dtype='float64', id=None),\n",
       " 'longitude': Value(dtype='float64', id=None),\n",
       " 'date': Value(dtype='string', id=None),\n",
       " 'Photo': Image(decode=True, id=None)}"
      ]
     },
     "execution_count": 17,
     "metadata": {},
     "output_type": "execute_result"
    }
   ],
   "source": [
    "prepared_ds['train'].features"
   ]
  },
  {
   "cell_type": "code",
   "execution_count": 18,
   "id": "98416f9e",
   "metadata": {},
   "outputs": [],
   "source": [
    "from transformers import Trainer\n",
    "\n",
    "trainer = Trainer(\n",
    "    model=model,\n",
    "    args=training_args,\n",
    "    data_collator=collate_fn,\n",
    "    compute_metrics=compute_metrics,\n",
    "    train_dataset=prepared_ds[\"train\"],\n",
    "    eval_dataset=prepared_ds[\"test\"],\n",
    "    tokenizer=feature_extractor,\n",
    ")"
   ]
  },
  {
   "cell_type": "code",
   "execution_count": 19,
   "id": "af59cd73",
   "metadata": {},
   "outputs": [
    {
     "name": "stderr",
     "output_type": "stream",
     "text": [
      "C:\\Users\\Aswin.Surya24\\Anaconda3\\lib\\site-packages\\transformers\\optimization.py:306: FutureWarning: This implementation of AdamW is deprecated and will be removed in a future version. Use the PyTorch implementation torch.optim.AdamW instead, or set `no_deprecation_warning=True` to disable this warning\n",
      "  warnings.warn(\n",
      "***** Running training *****\n",
      "  Num examples = 7107\n",
      "  Num Epochs = 4\n",
      "  Instantaneous batch size per device = 16\n",
      "  Total train batch size (w. parallel, distributed & accumulation) = 16\n",
      "  Gradient Accumulation steps = 1\n",
      "  Total optimization steps = 1780\n"
     ]
    },
    {
     "data": {
      "text/html": [
       "\n",
       "    <div>\n",
       "      \n",
       "      <progress value='1780' max='1780' style='width:300px; height:20px; vertical-align: middle;'></progress>\n",
       "      [1780/1780 9:29:03, Epoch 4/4]\n",
       "    </div>\n",
       "    <table border=\"1\" class=\"dataframe\">\n",
       "  <thead>\n",
       " <tr style=\"text-align: left;\">\n",
       "      <th>Step</th>\n",
       "      <th>Training Loss</th>\n",
       "      <th>Validation Loss</th>\n",
       "      <th>Precision</th>\n",
       "      <th>Recall</th>\n",
       "      <th>F1</th>\n",
       "      <th>Accuracy</th>\n",
       "    </tr>\n",
       "  </thead>\n",
       "  <tbody>\n",
       "    <tr>\n",
       "      <td>100</td>\n",
       "      <td>0.873400</td>\n",
       "      <td>1.202113</td>\n",
       "      <td>0.560909</td>\n",
       "      <td>0.433556</td>\n",
       "      <td>0.476824</td>\n",
       "      <td>0.433556</td>\n",
       "    </tr>\n",
       "    <tr>\n",
       "      <td>200</td>\n",
       "      <td>0.817300</td>\n",
       "      <td>0.922775</td>\n",
       "      <td>0.549239</td>\n",
       "      <td>0.578947</td>\n",
       "      <td>0.552311</td>\n",
       "      <td>0.578947</td>\n",
       "    </tr>\n",
       "    <tr>\n",
       "      <td>300</td>\n",
       "      <td>0.844300</td>\n",
       "      <td>0.986800</td>\n",
       "      <td>0.564251</td>\n",
       "      <td>0.553068</td>\n",
       "      <td>0.548708</td>\n",
       "      <td>0.553068</td>\n",
       "    </tr>\n",
       "    <tr>\n",
       "      <td>400</td>\n",
       "      <td>0.734400</td>\n",
       "      <td>0.901893</td>\n",
       "      <td>0.562246</td>\n",
       "      <td>0.589706</td>\n",
       "      <td>0.567614</td>\n",
       "      <td>0.589706</td>\n",
       "    </tr>\n",
       "    <tr>\n",
       "      <td>500</td>\n",
       "      <td>0.755700</td>\n",
       "      <td>0.958425</td>\n",
       "      <td>0.604317</td>\n",
       "      <td>0.607153</td>\n",
       "      <td>0.563995</td>\n",
       "      <td>0.607153</td>\n",
       "    </tr>\n",
       "    <tr>\n",
       "      <td>600</td>\n",
       "      <td>0.784900</td>\n",
       "      <td>0.917097</td>\n",
       "      <td>0.566555</td>\n",
       "      <td>0.567898</td>\n",
       "      <td>0.567219</td>\n",
       "      <td>0.567898</td>\n",
       "    </tr>\n",
       "    <tr>\n",
       "      <td>700</td>\n",
       "      <td>0.889200</td>\n",
       "      <td>0.926778</td>\n",
       "      <td>0.582799</td>\n",
       "      <td>0.519337</td>\n",
       "      <td>0.535975</td>\n",
       "      <td>0.519337</td>\n",
       "    </tr>\n",
       "    <tr>\n",
       "      <td>800</td>\n",
       "      <td>0.716600</td>\n",
       "      <td>0.903834</td>\n",
       "      <td>0.580101</td>\n",
       "      <td>0.563245</td>\n",
       "      <td>0.568194</td>\n",
       "      <td>0.563245</td>\n",
       "    </tr>\n",
       "    <tr>\n",
       "      <td>900</td>\n",
       "      <td>0.624600</td>\n",
       "      <td>0.964241</td>\n",
       "      <td>0.600847</td>\n",
       "      <td>0.567607</td>\n",
       "      <td>0.581347</td>\n",
       "      <td>0.567607</td>\n",
       "    </tr>\n",
       "    <tr>\n",
       "      <td>1000</td>\n",
       "      <td>0.671400</td>\n",
       "      <td>0.927726</td>\n",
       "      <td>0.586895</td>\n",
       "      <td>0.580692</td>\n",
       "      <td>0.583524</td>\n",
       "      <td>0.580692</td>\n",
       "    </tr>\n",
       "    <tr>\n",
       "      <td>1100</td>\n",
       "      <td>0.662900</td>\n",
       "      <td>1.063386</td>\n",
       "      <td>0.613057</td>\n",
       "      <td>0.533585</td>\n",
       "      <td>0.565094</td>\n",
       "      <td>0.533585</td>\n",
       "    </tr>\n",
       "    <tr>\n",
       "      <td>1200</td>\n",
       "      <td>0.595500</td>\n",
       "      <td>0.900743</td>\n",
       "      <td>0.611821</td>\n",
       "      <td>0.604245</td>\n",
       "      <td>0.586355</td>\n",
       "      <td>0.604245</td>\n",
       "    </tr>\n",
       "    <tr>\n",
       "      <td>1300</td>\n",
       "      <td>0.754200</td>\n",
       "      <td>0.926440</td>\n",
       "      <td>0.625452</td>\n",
       "      <td>0.608026</td>\n",
       "      <td>0.604761</td>\n",
       "      <td>0.608026</td>\n",
       "    </tr>\n",
       "    <tr>\n",
       "      <td>1400</td>\n",
       "      <td>0.511100</td>\n",
       "      <td>0.945623</td>\n",
       "      <td>0.631814</td>\n",
       "      <td>0.613260</td>\n",
       "      <td>0.614302</td>\n",
       "      <td>0.613260</td>\n",
       "    </tr>\n",
       "    <tr>\n",
       "      <td>1500</td>\n",
       "      <td>0.545900</td>\n",
       "      <td>0.907611</td>\n",
       "      <td>0.609552</td>\n",
       "      <td>0.591451</td>\n",
       "      <td>0.598788</td>\n",
       "      <td>0.591451</td>\n",
       "    </tr>\n",
       "    <tr>\n",
       "      <td>1600</td>\n",
       "      <td>0.510600</td>\n",
       "      <td>1.082854</td>\n",
       "      <td>0.611920</td>\n",
       "      <td>0.566153</td>\n",
       "      <td>0.572607</td>\n",
       "      <td>0.566153</td>\n",
       "    </tr>\n",
       "    <tr>\n",
       "      <td>1700</td>\n",
       "      <td>0.542700</td>\n",
       "      <td>1.013676</td>\n",
       "      <td>0.618746</td>\n",
       "      <td>0.580401</td>\n",
       "      <td>0.588748</td>\n",
       "      <td>0.580401</td>\n",
       "    </tr>\n",
       "  </tbody>\n",
       "</table><p>"
      ],
      "text/plain": [
       "<IPython.core.display.HTML object>"
      ]
     },
     "metadata": {},
     "output_type": "display_data"
    },
    {
     "name": "stderr",
     "output_type": "stream",
     "text": [
      "***** Running Evaluation *****\n",
      "  Num examples = 3439\n",
      "  Batch size = 8\n",
      "Saving model checkpoint to ./resnet-18-mosquito\\checkpoint-100\n",
      "Configuration saved in ./resnet-18-mosquito\\checkpoint-100\\config.json\n",
      "Model weights saved in ./resnet-18-mosquito\\checkpoint-100\\pytorch_model.bin\n",
      "Feature extractor saved in ./resnet-18-mosquito\\checkpoint-100\\preprocessor_config.json\n",
      "***** Running Evaluation *****\n",
      "  Num examples = 3439\n",
      "  Batch size = 8\n",
      "Saving model checkpoint to ./resnet-18-mosquito\\checkpoint-200\n",
      "Configuration saved in ./resnet-18-mosquito\\checkpoint-200\\config.json\n",
      "Model weights saved in ./resnet-18-mosquito\\checkpoint-200\\pytorch_model.bin\n",
      "Feature extractor saved in ./resnet-18-mosquito\\checkpoint-200\\preprocessor_config.json\n",
      "***** Running Evaluation *****\n",
      "  Num examples = 3439\n",
      "  Batch size = 8\n",
      "Saving model checkpoint to ./resnet-18-mosquito\\checkpoint-300\n",
      "Configuration saved in ./resnet-18-mosquito\\checkpoint-300\\config.json\n",
      "Model weights saved in ./resnet-18-mosquito\\checkpoint-300\\pytorch_model.bin\n",
      "Feature extractor saved in ./resnet-18-mosquito\\checkpoint-300\\preprocessor_config.json\n",
      "Deleting older checkpoint [resnet-18-mosquito\\checkpoint-100] due to args.save_total_limit\n",
      "***** Running Evaluation *****\n",
      "  Num examples = 3439\n",
      "  Batch size = 8\n",
      "Saving model checkpoint to ./resnet-18-mosquito\\checkpoint-400\n",
      "Configuration saved in ./resnet-18-mosquito\\checkpoint-400\\config.json\n",
      "Model weights saved in ./resnet-18-mosquito\\checkpoint-400\\pytorch_model.bin\n",
      "Feature extractor saved in ./resnet-18-mosquito\\checkpoint-400\\preprocessor_config.json\n",
      "Deleting older checkpoint [resnet-18-mosquito\\checkpoint-200] due to args.save_total_limit\n",
      "***** Running Evaluation *****\n",
      "  Num examples = 3439\n",
      "  Batch size = 8\n",
      "Saving model checkpoint to ./resnet-18-mosquito\\checkpoint-500\n",
      "Configuration saved in ./resnet-18-mosquito\\checkpoint-500\\config.json\n",
      "Model weights saved in ./resnet-18-mosquito\\checkpoint-500\\pytorch_model.bin\n",
      "Feature extractor saved in ./resnet-18-mosquito\\checkpoint-500\\preprocessor_config.json\n",
      "Deleting older checkpoint [resnet-18-mosquito\\checkpoint-300] due to args.save_total_limit\n",
      "***** Running Evaluation *****\n",
      "  Num examples = 3439\n",
      "  Batch size = 8\n",
      "Saving model checkpoint to ./resnet-18-mosquito\\checkpoint-600\n",
      "Configuration saved in ./resnet-18-mosquito\\checkpoint-600\\config.json\n",
      "Model weights saved in ./resnet-18-mosquito\\checkpoint-600\\pytorch_model.bin\n",
      "Feature extractor saved in ./resnet-18-mosquito\\checkpoint-600\\preprocessor_config.json\n",
      "Deleting older checkpoint [resnet-18-mosquito\\checkpoint-500] due to args.save_total_limit\n",
      "***** Running Evaluation *****\n",
      "  Num examples = 3439\n",
      "  Batch size = 8\n",
      "Saving model checkpoint to ./resnet-18-mosquito\\checkpoint-700\n",
      "Configuration saved in ./resnet-18-mosquito\\checkpoint-700\\config.json\n",
      "Model weights saved in ./resnet-18-mosquito\\checkpoint-700\\pytorch_model.bin\n",
      "Feature extractor saved in ./resnet-18-mosquito\\checkpoint-700\\preprocessor_config.json\n",
      "Deleting older checkpoint [resnet-18-mosquito\\checkpoint-600] due to args.save_total_limit\n",
      "***** Running Evaluation *****\n",
      "  Num examples = 3439\n",
      "  Batch size = 8\n",
      "Saving model checkpoint to ./resnet-18-mosquito\\checkpoint-800\n",
      "Configuration saved in ./resnet-18-mosquito\\checkpoint-800\\config.json\n",
      "Model weights saved in ./resnet-18-mosquito\\checkpoint-800\\pytorch_model.bin\n",
      "Feature extractor saved in ./resnet-18-mosquito\\checkpoint-800\\preprocessor_config.json\n",
      "Deleting older checkpoint [resnet-18-mosquito\\checkpoint-700] due to args.save_total_limit\n",
      "***** Running Evaluation *****\n",
      "  Num examples = 3439\n",
      "  Batch size = 8\n",
      "Saving model checkpoint to ./resnet-18-mosquito\\checkpoint-900\n",
      "Configuration saved in ./resnet-18-mosquito\\checkpoint-900\\config.json\n",
      "Model weights saved in ./resnet-18-mosquito\\checkpoint-900\\pytorch_model.bin\n",
      "Feature extractor saved in ./resnet-18-mosquito\\checkpoint-900\\preprocessor_config.json\n",
      "Deleting older checkpoint [resnet-18-mosquito\\checkpoint-800] due to args.save_total_limit\n",
      "***** Running Evaluation *****\n",
      "  Num examples = 3439\n",
      "  Batch size = 8\n",
      "Saving model checkpoint to ./resnet-18-mosquito\\checkpoint-1000\n",
      "Configuration saved in ./resnet-18-mosquito\\checkpoint-1000\\config.json\n",
      "Model weights saved in ./resnet-18-mosquito\\checkpoint-1000\\pytorch_model.bin\n",
      "Feature extractor saved in ./resnet-18-mosquito\\checkpoint-1000\\preprocessor_config.json\n",
      "Deleting older checkpoint [resnet-18-mosquito\\checkpoint-900] due to args.save_total_limit\n",
      "***** Running Evaluation *****\n",
      "  Num examples = 3439\n",
      "  Batch size = 8\n",
      "Saving model checkpoint to ./resnet-18-mosquito\\checkpoint-1100\n",
      "Configuration saved in ./resnet-18-mosquito\\checkpoint-1100\\config.json\n",
      "Model weights saved in ./resnet-18-mosquito\\checkpoint-1100\\pytorch_model.bin\n",
      "Feature extractor saved in ./resnet-18-mosquito\\checkpoint-1100\\preprocessor_config.json\n",
      "Deleting older checkpoint [resnet-18-mosquito\\checkpoint-1000] due to args.save_total_limit\n",
      "***** Running Evaluation *****\n",
      "  Num examples = 3439\n",
      "  Batch size = 8\n",
      "Saving model checkpoint to ./resnet-18-mosquito\\checkpoint-1200\n",
      "Configuration saved in ./resnet-18-mosquito\\checkpoint-1200\\config.json\n",
      "Model weights saved in ./resnet-18-mosquito\\checkpoint-1200\\pytorch_model.bin\n",
      "Feature extractor saved in ./resnet-18-mosquito\\checkpoint-1200\\preprocessor_config.json\n",
      "Deleting older checkpoint [resnet-18-mosquito\\checkpoint-400] due to args.save_total_limit\n",
      "***** Running Evaluation *****\n",
      "  Num examples = 3439\n",
      "  Batch size = 8\n",
      "Saving model checkpoint to ./resnet-18-mosquito\\checkpoint-1300\n",
      "Configuration saved in ./resnet-18-mosquito\\checkpoint-1300\\config.json\n",
      "Model weights saved in ./resnet-18-mosquito\\checkpoint-1300\\pytorch_model.bin\n",
      "Feature extractor saved in ./resnet-18-mosquito\\checkpoint-1300\\preprocessor_config.json\n",
      "Deleting older checkpoint [resnet-18-mosquito\\checkpoint-1100] due to args.save_total_limit\n",
      "***** Running Evaluation *****\n",
      "  Num examples = 3439\n",
      "  Batch size = 8\n",
      "Saving model checkpoint to ./resnet-18-mosquito\\checkpoint-1400\n",
      "Configuration saved in ./resnet-18-mosquito\\checkpoint-1400\\config.json\n",
      "Model weights saved in ./resnet-18-mosquito\\checkpoint-1400\\pytorch_model.bin\n",
      "Feature extractor saved in ./resnet-18-mosquito\\checkpoint-1400\\preprocessor_config.json\n",
      "Deleting older checkpoint [resnet-18-mosquito\\checkpoint-1300] due to args.save_total_limit\n",
      "***** Running Evaluation *****\n",
      "  Num examples = 3439\n",
      "  Batch size = 8\n",
      "Saving model checkpoint to ./resnet-18-mosquito\\checkpoint-1500\n",
      "Configuration saved in ./resnet-18-mosquito\\checkpoint-1500\\config.json\n",
      "Model weights saved in ./resnet-18-mosquito\\checkpoint-1500\\pytorch_model.bin\n",
      "Feature extractor saved in ./resnet-18-mosquito\\checkpoint-1500\\preprocessor_config.json\n",
      "Deleting older checkpoint [resnet-18-mosquito\\checkpoint-1400] due to args.save_total_limit\n",
      "***** Running Evaluation *****\n",
      "  Num examples = 3439\n",
      "  Batch size = 8\n",
      "Saving model checkpoint to ./resnet-18-mosquito\\checkpoint-1600\n",
      "Configuration saved in ./resnet-18-mosquito\\checkpoint-1600\\config.json\n",
      "Model weights saved in ./resnet-18-mosquito\\checkpoint-1600\\pytorch_model.bin\n",
      "Feature extractor saved in ./resnet-18-mosquito\\checkpoint-1600\\preprocessor_config.json\n",
      "Deleting older checkpoint [resnet-18-mosquito\\checkpoint-1500] due to args.save_total_limit\n",
      "***** Running Evaluation *****\n",
      "  Num examples = 3439\n",
      "  Batch size = 8\n",
      "Saving model checkpoint to ./resnet-18-mosquito\\checkpoint-1700\n",
      "Configuration saved in ./resnet-18-mosquito\\checkpoint-1700\\config.json\n",
      "Model weights saved in ./resnet-18-mosquito\\checkpoint-1700\\pytorch_model.bin\n",
      "Feature extractor saved in ./resnet-18-mosquito\\checkpoint-1700\\preprocessor_config.json\n",
      "Deleting older checkpoint [resnet-18-mosquito\\checkpoint-1600] due to args.save_total_limit\n",
      "\n",
      "\n",
      "Training completed. Do not forget to share your model on huggingface.co/models =)\n",
      "\n",
      "\n",
      "Loading best model from ./resnet-18-mosquito\\checkpoint-1200 (score: 0.9007434248924255).\n",
      "Saving model checkpoint to ./resnet-18-mosquito\n",
      "Configuration saved in ./resnet-18-mosquito\\config.json\n",
      "Model weights saved in ./resnet-18-mosquito\\pytorch_model.bin\n",
      "Feature extractor saved in ./resnet-18-mosquito\\preprocessor_config.json\n"
     ]
    },
    {
     "name": "stdout",
     "output_type": "stream",
     "text": [
      "***** train metrics *****\n",
      "  epoch                    =         4.0\n",
      "  total_flos               = 267288987GF\n",
      "  train_loss               =      0.6989\n",
      "  train_runtime            =  9:29:10.17\n",
      "  train_samples_per_second =       0.832\n",
      "  train_steps_per_second   =       0.052\n"
     ]
    }
   ],
   "source": [
    "train_results = trainer.train()\n",
    "trainer.save_model()\n",
    "trainer.log_metrics(\"train\", train_results.metrics)\n",
    "trainer.save_metrics(\"train\", train_results.metrics)\n",
    "trainer.save_state()"
   ]
  },
  {
   "cell_type": "code",
   "execution_count": 20,
   "id": "c1d9e02b",
   "metadata": {},
   "outputs": [
    {
     "name": "stderr",
     "output_type": "stream",
     "text": [
      "***** Running Evaluation *****\n",
      "  Num examples = 3439\n",
      "  Batch size = 8\n"
     ]
    },
    {
     "data": {
      "text/html": [
       "\n",
       "    <div>\n",
       "      \n",
       "      <progress value='430' max='430' style='width:300px; height:20px; vertical-align: middle;'></progress>\n",
       "      [430/430 20:08]\n",
       "    </div>\n",
       "    "
      ],
      "text/plain": [
       "<IPython.core.display.HTML object>"
      ]
     },
     "metadata": {},
     "output_type": "display_data"
    },
    {
     "name": "stdout",
     "output_type": "stream",
     "text": [
      "***** eval metrics *****\n",
      "  epoch                   =        4.0\n",
      "  eval_accuracy           =     0.5967\n",
      "  eval_f1                 =     0.5756\n",
      "  eval_loss               =     0.9004\n",
      "  eval_precision          =     0.6034\n",
      "  eval_recall             =     0.5967\n",
      "  eval_runtime            = 0:20:15.60\n",
      "  eval_samples_per_second =      2.829\n",
      "  eval_steps_per_second   =      0.354\n"
     ]
    }
   ],
   "source": [
    "metrics = trainer.evaluate(prepared_ds['test'])\n",
    "trainer.log_metrics(\"eval\", metrics)\n",
    "trainer.save_metrics(\"eval\", metrics)"
   ]
  }
 ],
 "metadata": {
  "kernelspec": {
   "display_name": "Python 3 (ipykernel)",
   "language": "python",
   "name": "python3"
  },
  "language_info": {
   "codemirror_mode": {
    "name": "ipython",
    "version": 3
   },
   "file_extension": ".py",
   "mimetype": "text/x-python",
   "name": "python",
   "nbconvert_exporter": "python",
   "pygments_lexer": "ipython3",
   "version": "3.9.12"
  }
 },
 "nbformat": 4,
 "nbformat_minor": 5
}
